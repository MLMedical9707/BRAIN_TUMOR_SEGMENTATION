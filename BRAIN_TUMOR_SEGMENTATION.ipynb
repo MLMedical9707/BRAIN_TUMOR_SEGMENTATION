{
 "cells": [
  {
   "cell_type": "markdown",
   "metadata": {
    "jp-MarkdownHeadingCollapsed": true
   },
   "source": [
    "# **뇌종양 MRI 이미지 분류 프로젝트**\n",
    "\n",
    "## **1. 프로젝트 개요**\n",
    "- 본 프로젝트는 **뇌종양 MRI 데이터를 활용하여 이미지 분류 모델을 개발**하는 것을 목표로 합니다.\n",
    "- **CNN(Convolutional Neural Network)** 기반으로 3가지 모델(`BasicCNN`, `IntermediateCNN`, `AdvancedCNN`)을 설계하고 성능을 비교 분석합니다.\n",
    "- 데이터셋은 **Kaggle**에서 제공하는 `brain-tumor-mri-data`를 사용합니다.\n",
    "\n",
    "---\n",
    "\n",
    "## **2. 프로젝트 흐름**\n",
    "### 🔹 **데이터 처리 및 준비**\n",
    "- **Kaggle API**를 이용해 MRI 데이터 다운로드 및 전처리 수행.\n",
    "- **`transforms`**를 활용한 이미지 변환(크기 조정, 텐서 변환, 정규화).\n",
    "\n",
    "### 🔹 **모델 설계 및 학습**\n",
    "- **BasicCNN** → 간단한 CNN 구조.\n",
    "- **IntermediateCNN** → 중간 복잡도의 CNN 모델.\n",
    "- **AdvancedCNN** → 더 깊은 구조를 가진 고급 CNN 모델.\n",
    "- 모델 학습 시 **조기 종료(Early Stopping)** 및 `Adam` 옵티마이저 적용.\n",
    "\n",
    "### 🔹 **모델 평가 및 성능 비교**\n",
    "- **Accuracy, Precision, Recall, F1-score**를 활용한 성능 분석.\n",
    "- 학습된 모델을 평가하고 **최적 모델을 선택**.\n",
    "- **CSV 파일로 결과 저장** 및 **그래프 시각화**.\n",
    "\n",
    "---\n",
    "\n",
    "## **3. 사용된 주요 라이브러리**\n",
    "- **`torch`, `torchvision`** → 딥러닝 모델 구축 및 이미지 데이터 처리.\n",
    "- **`pandas`** → 모델 평가 결과 저장 및 CSV 변환.\n",
    "- **`matplotlib`** → 성능 시각화 (모델별 비교 그래프).\n",
    "- **`sklearn.metrics`** → 모델 성능 평가 (정확도, 정밀도, 재현율, F1-score)."
   ]
  },
  {
   "cell_type": "markdown",
   "metadata": {},
   "source": [
    "# Google Colab에서 Kaggle API 인증을 위한 파일 업로드\n",
    "\n",
    "Google Colab에서 Kaggle API를 사용하려면 `kaggle.json` 인증 파일을 업로드해야 합니다."
   ]
  },
  {
   "cell_type": "code",
   "execution_count": 1,
   "metadata": {
    "colab": {
     "base_uri": "https://localhost:8080/",
     "height": 97
    },
    "id": "OT4hB8nWVuRv",
    "outputId": "48ae9ec9-1c52-454c-aeb3-75d45d46d454"
   },
   "outputs": [
    {
     "data": {
      "text/html": [
       "\n",
       "     <input type=\"file\" id=\"files-a7b0e3e2-9cc5-4629-9727-1e4f2082881a\" name=\"files[]\" multiple disabled\n",
       "        style=\"border:none\" />\n",
       "     <output id=\"result-a7b0e3e2-9cc5-4629-9727-1e4f2082881a\">\n",
       "      Upload widget is only available when the cell has been executed in the\n",
       "      current browser session. Please rerun this cell to enable.\n",
       "      </output>\n",
       "      <script>// Copyright 2017 Google LLC\n",
       "//\n",
       "// Licensed under the Apache License, Version 2.0 (the \"License\");\n",
       "// you may not use this file except in compliance with the License.\n",
       "// You may obtain a copy of the License at\n",
       "//\n",
       "//      http://www.apache.org/licenses/LICENSE-2.0\n",
       "//\n",
       "// Unless required by applicable law or agreed to in writing, software\n",
       "// distributed under the License is distributed on an \"AS IS\" BASIS,\n",
       "// WITHOUT WARRANTIES OR CONDITIONS OF ANY KIND, either express or implied.\n",
       "// See the License for the specific language governing permissions and\n",
       "// limitations under the License.\n",
       "\n",
       "/**\n",
       " * @fileoverview Helpers for google.colab Python module.\n",
       " */\n",
       "(function(scope) {\n",
       "function span(text, styleAttributes = {}) {\n",
       "  const element = document.createElement('span');\n",
       "  element.textContent = text;\n",
       "  for (const key of Object.keys(styleAttributes)) {\n",
       "    element.style[key] = styleAttributes[key];\n",
       "  }\n",
       "  return element;\n",
       "}\n",
       "\n",
       "// Max number of bytes which will be uploaded at a time.\n",
       "const MAX_PAYLOAD_SIZE = 100 * 1024;\n",
       "\n",
       "function _uploadFiles(inputId, outputId) {\n",
       "  const steps = uploadFilesStep(inputId, outputId);\n",
       "  const outputElement = document.getElementById(outputId);\n",
       "  // Cache steps on the outputElement to make it available for the next call\n",
       "  // to uploadFilesContinue from Python.\n",
       "  outputElement.steps = steps;\n",
       "\n",
       "  return _uploadFilesContinue(outputId);\n",
       "}\n",
       "\n",
       "// This is roughly an async generator (not supported in the browser yet),\n",
       "// where there are multiple asynchronous steps and the Python side is going\n",
       "// to poll for completion of each step.\n",
       "// This uses a Promise to block the python side on completion of each step,\n",
       "// then passes the result of the previous step as the input to the next step.\n",
       "function _uploadFilesContinue(outputId) {\n",
       "  const outputElement = document.getElementById(outputId);\n",
       "  const steps = outputElement.steps;\n",
       "\n",
       "  const next = steps.next(outputElement.lastPromiseValue);\n",
       "  return Promise.resolve(next.value.promise).then((value) => {\n",
       "    // Cache the last promise value to make it available to the next\n",
       "    // step of the generator.\n",
       "    outputElement.lastPromiseValue = value;\n",
       "    return next.value.response;\n",
       "  });\n",
       "}\n",
       "\n",
       "/**\n",
       " * Generator function which is called between each async step of the upload\n",
       " * process.\n",
       " * @param {string} inputId Element ID of the input file picker element.\n",
       " * @param {string} outputId Element ID of the output display.\n",
       " * @return {!Iterable<!Object>} Iterable of next steps.\n",
       " */\n",
       "function* uploadFilesStep(inputId, outputId) {\n",
       "  const inputElement = document.getElementById(inputId);\n",
       "  inputElement.disabled = false;\n",
       "\n",
       "  const outputElement = document.getElementById(outputId);\n",
       "  outputElement.innerHTML = '';\n",
       "\n",
       "  const pickedPromise = new Promise((resolve) => {\n",
       "    inputElement.addEventListener('change', (e) => {\n",
       "      resolve(e.target.files);\n",
       "    });\n",
       "  });\n",
       "\n",
       "  const cancel = document.createElement('button');\n",
       "  inputElement.parentElement.appendChild(cancel);\n",
       "  cancel.textContent = 'Cancel upload';\n",
       "  const cancelPromise = new Promise((resolve) => {\n",
       "    cancel.onclick = () => {\n",
       "      resolve(null);\n",
       "    };\n",
       "  });\n",
       "\n",
       "  // Wait for the user to pick the files.\n",
       "  const files = yield {\n",
       "    promise: Promise.race([pickedPromise, cancelPromise]),\n",
       "    response: {\n",
       "      action: 'starting',\n",
       "    }\n",
       "  };\n",
       "\n",
       "  cancel.remove();\n",
       "\n",
       "  // Disable the input element since further picks are not allowed.\n",
       "  inputElement.disabled = true;\n",
       "\n",
       "  if (!files) {\n",
       "    return {\n",
       "      response: {\n",
       "        action: 'complete',\n",
       "      }\n",
       "    };\n",
       "  }\n",
       "\n",
       "  for (const file of files) {\n",
       "    const li = document.createElement('li');\n",
       "    li.append(span(file.name, {fontWeight: 'bold'}));\n",
       "    li.append(span(\n",
       "        `(${file.type || 'n/a'}) - ${file.size} bytes, ` +\n",
       "        `last modified: ${\n",
       "            file.lastModifiedDate ? file.lastModifiedDate.toLocaleDateString() :\n",
       "                                    'n/a'} - `));\n",
       "    const percent = span('0% done');\n",
       "    li.appendChild(percent);\n",
       "\n",
       "    outputElement.appendChild(li);\n",
       "\n",
       "    const fileDataPromise = new Promise((resolve) => {\n",
       "      const reader = new FileReader();\n",
       "      reader.onload = (e) => {\n",
       "        resolve(e.target.result);\n",
       "      };\n",
       "      reader.readAsArrayBuffer(file);\n",
       "    });\n",
       "    // Wait for the data to be ready.\n",
       "    let fileData = yield {\n",
       "      promise: fileDataPromise,\n",
       "      response: {\n",
       "        action: 'continue',\n",
       "      }\n",
       "    };\n",
       "\n",
       "    // Use a chunked sending to avoid message size limits. See b/62115660.\n",
       "    let position = 0;\n",
       "    do {\n",
       "      const length = Math.min(fileData.byteLength - position, MAX_PAYLOAD_SIZE);\n",
       "      const chunk = new Uint8Array(fileData, position, length);\n",
       "      position += length;\n",
       "\n",
       "      const base64 = btoa(String.fromCharCode.apply(null, chunk));\n",
       "      yield {\n",
       "        response: {\n",
       "          action: 'append',\n",
       "          file: file.name,\n",
       "          data: base64,\n",
       "        },\n",
       "      };\n",
       "\n",
       "      let percentDone = fileData.byteLength === 0 ?\n",
       "          100 :\n",
       "          Math.round((position / fileData.byteLength) * 100);\n",
       "      percent.textContent = `${percentDone}% done`;\n",
       "\n",
       "    } while (position < fileData.byteLength);\n",
       "  }\n",
       "\n",
       "  // All done.\n",
       "  yield {\n",
       "    response: {\n",
       "      action: 'complete',\n",
       "    }\n",
       "  };\n",
       "}\n",
       "\n",
       "scope.google = scope.google || {};\n",
       "scope.google.colab = scope.google.colab || {};\n",
       "scope.google.colab._files = {\n",
       "  _uploadFiles,\n",
       "  _uploadFilesContinue,\n",
       "};\n",
       "})(self);\n",
       "</script> "
      ],
      "text/plain": [
       "<IPython.core.display.HTML object>"
      ]
     },
     "metadata": {},
     "output_type": "display_data"
    },
    {
     "name": "stdout",
     "output_type": "stream",
     "text": [
      "Saving kaggle.json to kaggle.json\n"
     ]
    },
    {
     "data": {
      "text/plain": [
       "{'kaggle.json': b'{\"username\":\"mldlmaster\",\"key\":\"51f5b87821365b75d176d077592a6593\"}'}"
      ]
     },
     "execution_count": 1,
     "metadata": {},
     "output_type": "execute_result"
    }
   ],
   "source": [
    "from google.colab import files\n",
    "files.upload()  # kaggle.json 파일 업로드\n"
   ]
  },
  {
   "cell_type": "markdown",
   "metadata": {},
   "source": [
    "# Kaggle API 인증 설정\n",
    "\n",
    "- Kaggle API를 사용하기 위해 `kaggle.json` 파일을 지정된 폴더로 이동하고 보안 권한을 설정함.\n",
    "- 파일 권한을 조정하여 안전한 인증 환경을 구성함.\n"
   ]
  },
  {
   "cell_type": "code",
   "execution_count": 2,
   "metadata": {
    "id": "pg61CA3KVxyB"
   },
   "outputs": [],
   "source": [
    "!mkdir -p ~/.kaggle\n",
    "!mv kaggle.json ~/.kaggle/\n",
    "!chmod 600 ~/.kaggle/kaggle.json\n"
   ]
  },
  {
   "cell_type": "markdown",
   "metadata": {},
   "source": [
    "# Kaggle 데이터셋 다운로드\n",
    "\n",
    "- `kaggle.json` 인증을 완료한 후 Kaggle API를 통해 데이터셋을 다운로드함.\n",
    "- `tombackert/brain-tumor-mri-data` 데이터셋을 현재 작업 디렉토리로 저장.\n"
   ]
  },
  {
   "cell_type": "code",
   "execution_count": 3,
   "metadata": {
    "colab": {
     "base_uri": "https://localhost:8080/"
    },
    "id": "p5ecORKlV524",
    "outputId": "b5d65e03-b4db-4b4f-aeb8-c5258391b052"
   },
   "outputs": [
    {
     "name": "stdout",
     "output_type": "stream",
     "text": [
      "Dataset URL: https://www.kaggle.com/datasets/tombackert/brain-tumor-mri-data\n",
      "License(s): MIT\n",
      "Downloading brain-tumor-mri-data.zip to /content\n",
      " 98% 149M/151M [00:04<00:00, 41.4MB/s]\n",
      "100% 151M/151M [00:04<00:00, 37.7MB/s]\n"
     ]
    }
   ],
   "source": [
    "!kaggle datasets download -d tombackert/brain-tumor-mri-data\n"
   ]
  },
  {
   "cell_type": "code",
   "execution_count": 5,
   "metadata": {
    "colab": {
     "base_uri": "https://localhost:8080/"
    },
    "id": "eHcy5xHJW2Um",
    "outputId": "586d5224-10e4-4383-f264-12220366c656"
   },
   "outputs": [
    {
     "data": {
      "text/plain": [
       "['brain-tumor-mri-dataset']"
      ]
     },
     "execution_count": 5,
     "metadata": {},
     "output_type": "execute_result"
    }
   ],
   "source": [
    "import os\n",
    "os.listdir(\"brain_tumor_data\")\n"
   ]
  },
  {
   "cell_type": "markdown",
   "metadata": {},
   "source": [
    "# PyTorch 기반 딥러닝 환경 설정\n",
    "\n",
    "- `torch`, `torch.nn`, `torch.nn.functional` → 신경망 모델 구성 및 손실 함수 정의.\n",
    "- `torch.optim` → 최적화 알고리즘 사용.\n",
    "- `torchvision.datasets`, `torchvision.transforms` → 이미지 데이터셋 로드 및 전처리.\n",
    "- `torch.utils.data.DataLoader`, `random_split` → 데이터 배치 및 훈련/검증 세트 분할.\n",
    "- `numpy` → 수치 연산을 위한 배열 처리.\n",
    "- `copy` → 모델 복사 및 가중치 저장을 위한 라이브러리.\n"
   ]
  },
  {
   "cell_type": "code",
   "execution_count": 6,
   "metadata": {
    "id": "wMEeV3LRXTpW"
   },
   "outputs": [],
   "source": [
    "import torch\n",
    "import torch.nn as nn\n",
    "import torch.nn.functional as F\n",
    "import torch.optim as optim\n",
    "from torchvision import datasets, transforms\n",
    "from torch.utils.data import DataLoader, random_split\n",
    "import numpy as np\n",
    "import copy\n"
   ]
  },
  {
   "cell_type": "markdown",
   "metadata": {},
   "source": [
    "# 이미지 데이터 변환 (전처리)\n",
    "\n",
    "- `Resize((224, 224))` → 모든 이미지를 224x224 크기로 조정.\n",
    "- `ToTensor()` → 이미지를 PyTorch Tensor 형식으로 변환.\n",
    "- `Normalize(mean=[0.5, 0.5, 0.5], std=[0.5, 0.5, 0.5])` → 픽셀 값을 [-1, 1] 범위로 정규화.\n"
   ]
  },
  {
   "cell_type": "code",
   "execution_count": 7,
   "metadata": {
    "id": "F_e5VbM6XdiB"
   },
   "outputs": [],
   "source": [
    "transform = transforms.Compose([\n",
    "    transforms.Resize((224, 224)),  # 이미지 크기 조정\n",
    "    transforms.ToTensor(),  # PyTorch Tensor로 변환\n",
    "    transforms.Normalize(mean=[0.5, 0.5, 0.5], std=[0.5, 0.5, 0.5])  # 정규화\n",
    "])\n"
   ]
  },
  {
   "cell_type": "markdown",
   "metadata": {},
   "source": [
    "# 데이터셋 로드\n",
    "\n",
    "- `data_dir` → 이미지 데이터가 저장된 디렉토리 경로 설정.\n",
    "- `datasets.ImageFolder` → 폴더 구조에 따라 라벨을 자동으로 지정하여 데이터셋 생성.\n",
    "- `transform=transform` → 데이터셋에 정의된 변환(전처리) 적용.\n"
   ]
  },
  {
   "cell_type": "code",
   "execution_count": 8,
   "metadata": {
    "id": "2ZfDZg5KXjRP"
   },
   "outputs": [],
   "source": [
    "data_dir = '/content/brain_tumor_data/brain-tumor-mri-dataset'\n",
    "dataset = datasets.ImageFolder(root=data_dir, transform=transform)\n"
   ]
  },
  {
   "cell_type": "markdown",
   "metadata": {},
   "source": [
    "# 데이터셋 분할\n",
    "\n",
    "- 전체 데이터셋의 크기를 확인하고 훈련(60%), 검증(20%), 테스트(20%) 세트로 분할.\n",
    "- `random_split()`을 사용하여 데이터셋을 무작위로 나눔.\n",
    "- 각 데이터셋의 크기를 출력하여 확인.\n"
   ]
  },
  {
   "cell_type": "code",
   "execution_count": 9,
   "metadata": {
    "colab": {
     "base_uri": "https://localhost:8080/"
    },
    "id": "BGYr6LmXXkel",
    "outputId": "5055d172-8e60-43a0-ee39-ddd16e943669"
   },
   "outputs": [
    {
     "name": "stdout",
     "output_type": "stream",
     "text": [
      "Train set: 4291개\n",
      "Validation set: 1430개\n",
      "Test set: 1432개\n"
     ]
    }
   ],
   "source": [
    "# 데이터셋 크기\n",
    "dataset_size = len(dataset)\n",
    "train_size = int(dataset_size * 0.6)  # 60%\n",
    "val_size = int(dataset_size * 0.2)    # 20%\n",
    "test_size = dataset_size - train_size - val_size  # 나머지\n",
    "\n",
    "# 랜덤 분할\n",
    "train_dataset, val_dataset, test_dataset = random_split(dataset, [train_size, val_size, test_size])\n",
    "\n",
    "print(f\"Train set: {len(train_dataset)}개\")\n",
    "print(f\"Validation set: {len(val_dataset)}개\")\n",
    "print(f\"Test set: {len(test_dataset)}개\")\n"
   ]
  },
  {
   "cell_type": "markdown",
   "metadata": {},
   "source": [
    "# 데이터 로더 설정\n",
    "\n",
    "- `batch_size = 128` → 한 번에 처리할 데이터 샘플 개수 설정.\n",
    "- `DataLoader`를 사용하여 데이터 배치 로딩 및 병렬 처리 최적화.\n",
    "  - `shuffle=True` (훈련 데이터) → 모델 학습의 일반화 성능 향상을 위해 랜덤 섞기.\n",
    "  - `shuffle=False` (검증 및 테스트 데이터) → 일정한 순서 유지.\n",
    "  - `num_workers=2` → 데이터 로딩 속도 향상을 위한 병렬 처리 설정.\n",
    "- 훈련, 검증, 테스트 세트의 크기를 출력하여 확인.\n"
   ]
  },
  {
   "cell_type": "code",
   "execution_count": 10,
   "metadata": {
    "colab": {
     "base_uri": "https://localhost:8080/"
    },
    "id": "5nG-BfHlXmQW",
    "outputId": "6f398864-85c9-4689-82ce-da8f56b5127a"
   },
   "outputs": [
    {
     "name": "stdout",
     "output_type": "stream",
     "text": [
      "Train set: 4291 samples\n",
      "Validation set: 1430 samples\n",
      "Test set: 1432 samples\n"
     ]
    }
   ],
   "source": [
    "# 배치 크기 설정\n",
    "batch_size = 128\n",
    "\n",
    "# 데이터 로더 설정\n",
    "train_loader = DataLoader(train_dataset, batch_size=batch_size, shuffle=True, num_workers=2)  # 학습 데이터 (랜덤 섞기)\n",
    "val_loader = DataLoader(val_dataset, batch_size=batch_size, shuffle=False, num_workers=2)  # 검증 데이터 (순서 유지)\n",
    "test_loader = DataLoader(test_dataset, batch_size=batch_size, shuffle=False, num_workers=2)  # 테스트 데이터 (순서 유지)\n",
    "\n",
    "# 데이터 크기 확인\n",
    "print(f\"Train set: {len(train_dataset)} samples\")\n",
    "print(f\"Validation set: {len(val_dataset)} samples\")\n",
    "print(f\"Test set: {len(test_dataset)} samples\")\n"
   ]
  },
  {
   "cell_type": "code",
   "execution_count": 11,
   "metadata": {
    "colab": {
     "base_uri": "https://localhost:8080/"
    },
    "id": "FPZRX1ZGXoFI",
    "outputId": "19e6eae2-0a53-410b-c52f-e9c2f74bcf05"
   },
   "outputs": [
    {
     "name": "stdout",
     "output_type": "stream",
     "text": [
      "Train 배치 이미지 크기: torch.Size([128, 3, 224, 224])\n",
      "Train 배치 레이블: tensor([2, 0, 1, 3, 3, 0, 3, 1, 0, 0, 3, 1, 3, 2, 0, 1, 3, 2, 2, 1, 2, 3, 0, 2,\n",
      "        0, 2, 2, 2, 1, 0, 2, 3, 1, 0, 2, 1, 2, 3, 2, 2, 2, 1, 3, 2, 2, 0, 2, 1,\n",
      "        1, 1, 0, 0, 2, 0, 3, 1, 3, 2, 3, 2, 2, 2, 3, 2, 3, 1, 3, 3, 3, 3, 2, 0,\n",
      "        1, 0, 0, 2, 1, 2, 3, 1, 3, 0, 2, 1, 1, 1, 1, 1, 2, 2, 3, 0, 1, 0, 0, 1,\n",
      "        2, 2, 2, 0, 0, 2, 3, 3, 2, 2, 3, 0, 2, 1, 0, 3, 2, 0, 1, 3, 0, 3, 2, 2,\n",
      "        2, 2, 1, 0, 1, 2, 1, 0])\n"
     ]
    }
   ],
   "source": [
    "# 첫 번째 배치 데이터 확인\n",
    "train_images, train_labels = next(iter(train_loader))\n",
    "\n",
    "# 배치 크기 및 이미지 크기 출력 (형태: [batch_size, 채널, 높이, 너비])\n",
    "print(f\"Train 배치 이미지 크기: {train_images.shape}\")\n",
    "\n",
    "# 배치 레이블 출력 (각 샘플의 클래스 인덱스)\n",
    "print(f\"Train 배치 레이블: {train_labels}\")\n"
   ]
  },
  {
   "cell_type": "markdown",
   "metadata": {},
   "source": [
    "# 기본 CNN 모델 정의\n",
    "\n",
    "- **입력:** RGB 이미지 (3채널)\n",
    "- **구성 요소:**\n",
    "  - `Conv2d` → 합성곱 레이어 (특징 추출)\n",
    "  - `BatchNorm2d` → 배치 정규화 (학습 안정화)\n",
    "  - `LeakyReLU(0.1)` → 활성화 함수 (ReLU 변형)\n",
    "  - `MaxPool2d(2,2)` → 다운샘플링 (특징 맵 크기 감소)\n",
    "  - `Dropout` → 과적합 방지\n",
    "  - `Flatten` → 다차원 텐서를 1D 벡터로 변환\n",
    "  - `Linear` → 완전 연결층 (FC)\n",
    "  - `LogSoftmax(dim=1)` → 다중 클래스 분류를 위한 확률값 변환\n",
    "- **출력:** 4개 클래스 (뇌종양 MRI 데이터 분류)\n"
   ]
  },
  {
   "cell_type": "code",
   "execution_count": 12,
   "metadata": {
    "colab": {
     "base_uri": "https://localhost:8080/"
    },
    "id": "DaSBgZSYXpxP",
    "outputId": "0ddc2c50-1443-4789-ba13-8c309b9ba71f"
   },
   "outputs": [
    {
     "name": "stdout",
     "output_type": "stream",
     "text": [
      "BasicCNN(\n",
      "  (model): Sequential(\n",
      "    (0): Conv2d(3, 32, kernel_size=(3, 3), stride=(1, 1), padding=(1, 1))\n",
      "    (1): BatchNorm2d(32, eps=1e-05, momentum=0.1, affine=True, track_running_stats=True)\n",
      "    (2): LeakyReLU(negative_slope=0.1)\n",
      "    (3): MaxPool2d(kernel_size=2, stride=2, padding=0, dilation=1, ceil_mode=False)\n",
      "    (4): Dropout(p=0.25, inplace=False)\n",
      "    (5): Conv2d(32, 64, kernel_size=(3, 3), stride=(1, 1), padding=(1, 1))\n",
      "    (6): BatchNorm2d(64, eps=1e-05, momentum=0.1, affine=True, track_running_stats=True)\n",
      "    (7): LeakyReLU(negative_slope=0.1)\n",
      "    (8): MaxPool2d(kernel_size=2, stride=2, padding=0, dilation=1, ceil_mode=False)\n",
      "    (9): Dropout(p=0.25, inplace=False)\n",
      "    (10): Flatten(start_dim=1, end_dim=-1)\n",
      "    (11): Linear(in_features=200704, out_features=128, bias=True)\n",
      "    (12): BatchNorm1d(128, eps=1e-05, momentum=0.1, affine=True, track_running_stats=True)\n",
      "    (13): LeakyReLU(negative_slope=0.1)\n",
      "    (14): Dropout(p=0.5, inplace=False)\n",
      "    (15): Linear(in_features=128, out_features=4, bias=True)\n",
      "    (16): LogSoftmax(dim=1)\n",
      "  )\n",
      ")\n"
     ]
    }
   ],
   "source": [
    "# 기본 CNN 모델 정의\n",
    "class BasicCNN(nn.Module):\n",
    "    def __init__(self):\n",
    "        super(BasicCNN, self).__init__()\n",
    "        self.model = nn.Sequential(\n",
    "            nn.Conv2d(3, 32, kernel_size=3, padding=1),  # 입력 채널: 3 (RGB), 출력 채널: 32\n",
    "            nn.BatchNorm2d(32),  # 배치 정규화\n",
    "            nn.LeakyReLU(0.1),  # 활성화 함수\n",
    "            nn.MaxPool2d(2, 2),  # 크기 축소 (224 -> 112)\n",
    "            nn.Dropout(0.25),  # 과적합 방지\n",
    "\n",
    "            nn.Conv2d(32, 64, kernel_size=3, padding=1),  # 64개 필터 적용\n",
    "            nn.BatchNorm2d(64),\n",
    "            nn.LeakyReLU(0.1),\n",
    "            nn.MaxPool2d(2, 2),  # 크기 축소 (112 -> 56)\n",
    "            nn.Dropout(0.25),\n",
    "\n",
    "            nn.Flatten(),  # 2D Feature map -> 1D 벡터 변환\n",
    "            nn.Linear(64 * 56 * 56, 128),  # 완전 연결층 (FC)\n",
    "            nn.BatchNorm1d(128),\n",
    "            nn.LeakyReLU(0.1),\n",
    "            nn.Dropout(0.5),\n",
    "\n",
    "            nn.Linear(128, 4),  # 최종 출력층 (클래스 개수: 4)\n",
    "            nn.LogSoftmax(dim=1)  # 다중 클래스 분류를 위한 LogSoftmax 적용\n",
    "        )\n",
    "\n",
    "    def forward(self, x):\n",
    "        return self.model(x)\n",
    "\n",
    "# 모델 인스턴스 생성 및 구조 확인\n",
    "model_basic = BasicCNN()\n",
    "print(model_basic)\n"
   ]
  },
  {
   "cell_type": "markdown",
   "metadata": {},
   "source": [
    "# 중간 수준 CNN 모델 정의\n",
    "\n",
    "- **입력:** RGB 이미지 (3채널)\n",
    "- **구성 요소:**\n",
    "  - **4개의 합성곱 블록**\n",
    "    - `Conv2d` → 특징 추출\n",
    "    - `BatchNorm2d` → 학습 안정화\n",
    "    - `LeakyReLU(0.1)` → 비선형 활성화\n",
    "    - `MaxPool2d(2,2)` → 특징 맵 크기 감소\n",
    "    - `Dropout(0.25)` → 과적합 방지\n",
    "  - **완전 연결층 (FC)**\n",
    "    - `Flatten` → 2D → 1D 변환\n",
    "    - `Linear(512) → Linear(256) → Linear(4)` → 점진적 특징 압축\n",
    "    - `BatchNorm1d` → 정규화로 안정적인 학습 유도\n",
    "    - `LeakyReLU(0.1)` → 비선형 활성화\n",
    "    - `Dropout(0.5)` → 과적합 방지\n",
    "  - `LogSoftmax(dim=1)` → 다중 클래스 분류 확률값 출력\n",
    "- **출력:** 4개 클래스 (뇌종양 MRI 데이터 분류)\n"
   ]
  },
  {
   "cell_type": "code",
   "execution_count": 13,
   "metadata": {
    "colab": {
     "base_uri": "https://localhost:8080/"
    },
    "id": "CMTGCvrHXr2I",
    "outputId": "cefcedd7-c097-470b-9251-f8bbc609d45f"
   },
   "outputs": [
    {
     "name": "stdout",
     "output_type": "stream",
     "text": [
      "IntermediateCNN(\n",
      "  (model): Sequential(\n",
      "    (0): Conv2d(3, 32, kernel_size=(3, 3), stride=(1, 1), padding=(1, 1))\n",
      "    (1): BatchNorm2d(32, eps=1e-05, momentum=0.1, affine=True, track_running_stats=True)\n",
      "    (2): LeakyReLU(negative_slope=0.1)\n",
      "    (3): MaxPool2d(kernel_size=2, stride=2, padding=0, dilation=1, ceil_mode=False)\n",
      "    (4): Dropout(p=0.25, inplace=False)\n",
      "    (5): Conv2d(32, 64, kernel_size=(3, 3), stride=(1, 1), padding=(1, 1))\n",
      "    (6): BatchNorm2d(64, eps=1e-05, momentum=0.1, affine=True, track_running_stats=True)\n",
      "    (7): LeakyReLU(negative_slope=0.1)\n",
      "    (8): MaxPool2d(kernel_size=2, stride=2, padding=0, dilation=1, ceil_mode=False)\n",
      "    (9): Dropout(p=0.25, inplace=False)\n",
      "    (10): Conv2d(64, 128, kernel_size=(3, 3), stride=(1, 1), padding=(1, 1))\n",
      "    (11): BatchNorm2d(128, eps=1e-05, momentum=0.1, affine=True, track_running_stats=True)\n",
      "    (12): LeakyReLU(negative_slope=0.1)\n",
      "    (13): MaxPool2d(kernel_size=2, stride=2, padding=0, dilation=1, ceil_mode=False)\n",
      "    (14): Dropout(p=0.25, inplace=False)\n",
      "    (15): Conv2d(128, 256, kernel_size=(3, 3), stride=(1, 1), padding=(1, 1))\n",
      "    (16): BatchNorm2d(256, eps=1e-05, momentum=0.1, affine=True, track_running_stats=True)\n",
      "    (17): LeakyReLU(negative_slope=0.1)\n",
      "    (18): MaxPool2d(kernel_size=2, stride=2, padding=0, dilation=1, ceil_mode=False)\n",
      "    (19): Dropout(p=0.25, inplace=False)\n",
      "    (20): Flatten(start_dim=1, end_dim=-1)\n",
      "    (21): Linear(in_features=50176, out_features=512, bias=True)\n",
      "    (22): BatchNorm1d(512, eps=1e-05, momentum=0.1, affine=True, track_running_stats=True)\n",
      "    (23): LeakyReLU(negative_slope=0.1)\n",
      "    (24): Dropout(p=0.5, inplace=False)\n",
      "    (25): Linear(in_features=512, out_features=256, bias=True)\n",
      "    (26): BatchNorm1d(256, eps=1e-05, momentum=0.1, affine=True, track_running_stats=True)\n",
      "    (27): LeakyReLU(negative_slope=0.1)\n",
      "    (28): Dropout(p=0.5, inplace=False)\n",
      "    (29): Linear(in_features=256, out_features=4, bias=True)\n",
      "    (30): LogSoftmax(dim=1)\n",
      "  )\n",
      ")\n"
     ]
    }
   ],
   "source": [
    "# 중간 수준 CNN 모델 정의\n",
    "class IntermediateCNN(nn.Module):\n",
    "    def __init__(self):\n",
    "        super(IntermediateCNN, self).__init__()\n",
    "        self.model = nn.Sequential(\n",
    "            # 첫 번째 합성곱 블록\n",
    "            nn.Conv2d(3, 32, kernel_size=3, padding=1),  # 입력 채널: 3 (RGB), 출력 채널: 32\n",
    "            nn.BatchNorm2d(32),  # 배치 정규화\n",
    "            nn.LeakyReLU(0.1),  # 비선형 활성화 함수\n",
    "            nn.MaxPool2d(2, 2),  # 크기 축소 (224 -> 112)\n",
    "            nn.Dropout(0.25),  # 과적합 방지\n",
    "\n",
    "            # 두 번째 합성곱 블록\n",
    "            nn.Conv2d(32, 64, kernel_size=3, padding=1),  # 64개 필터 적용\n",
    "            nn.BatchNorm2d(64),\n",
    "            nn.LeakyReLU(0.1),\n",
    "            nn.MaxPool2d(2, 2),  # 크기 축소 (112 -> 56)\n",
    "            nn.Dropout(0.25),\n",
    "\n",
    "            # 세 번째 합성곱 블록\n",
    "            nn.Conv2d(64, 128, kernel_size=3, padding=1),  # 128개 필터 적용\n",
    "            nn.BatchNorm2d(128),\n",
    "            nn.LeakyReLU(0.1),\n",
    "            nn.MaxPool2d(2, 2),  # 크기 축소 (56 -> 28)\n",
    "            nn.Dropout(0.25),\n",
    "\n",
    "            # 네 번째 합성곱 블록\n",
    "            nn.Conv2d(128, 256, kernel_size=3, padding=1),  # 256개 필터 적용\n",
    "            nn.BatchNorm2d(256),\n",
    "            nn.LeakyReLU(0.1),\n",
    "            nn.MaxPool2d(2, 2),  # 크기 축소 (28 -> 14)\n",
    "            nn.Dropout(0.25),\n",
    "\n",
    "            nn.Flatten(),  # 2D Feature Map을 1D 벡터로 변환\n",
    "            nn.Linear(256 * 14 * 14, 512),  # 완전 연결층 (FC)\n",
    "            nn.BatchNorm1d(512),\n",
    "            nn.LeakyReLU(0.1),\n",
    "            nn.Dropout(0.5),\n",
    "\n",
    "            nn.Linear(512, 256),  # 중간 완전 연결층\n",
    "            nn.BatchNorm1d(256),\n",
    "            nn.LeakyReLU(0.1),\n",
    "            nn.Dropout(0.5),\n",
    "\n",
    "            nn.Linear(256, 4),  # 최종 출력층 (클래스 개수: 4)\n",
    "            nn.LogSoftmax(dim=1)  # 다중 클래스 분류를 위한 LogSoftmax 적용\n",
    "        )\n",
    "\n",
    "    def forward(self, x):\n",
    "        return self.model(x)\n",
    "\n",
    "# 모델 인스턴스 생성 및 구조 확인\n",
    "model_intermediate = IntermediateCNN()\n",
    "print(model_intermediate)\n"
   ]
  },
  {
   "cell_type": "markdown",
   "metadata": {},
   "source": [
    "# 고급 CNN 모델 정의\n",
    "\n",
    "- **입력:** RGB 이미지 (3채널)\n",
    "- **구성 요소:**\n",
    "  - **6개의 합성곱 블록**\n",
    "    - `Conv2d` → 점진적으로 필터 개수 증가 (32 → 512)\n",
    "    - `BatchNorm2d` → 학습 안정화\n",
    "    - `LeakyReLU(0.1)` → 비선형 활성화\n",
    "    - `MaxPool2d(2,2)` → 특징 맵 크기 감소\n",
    "    - `Dropout(0.25)` → 과적합 방지\n",
    "  - **완전 연결층 (FC)**\n",
    "    - `Flatten` → 2D → 1D 변환\n",
    "    - `Linear(1024) → Linear(512) → Linear(256) → Linear(4)` → 단계적 특징 압축\n",
    "    - `BatchNorm1d` → 정규화로 학습 안정화\n",
    "    - `LeakyReLU(0.1)` → 비선형 활성화\n",
    "    - `Dropout(0.5)` → 과적합 방지\n",
    "  - `LogSoftmax(dim=1)` → 다중 클래스 분류 확률값 출력\n",
    "- **출력:** 4개 클래스 (뇌종양 MRI 데이터 분류)\n"
   ]
  },
  {
   "cell_type": "code",
   "execution_count": 14,
   "metadata": {
    "colab": {
     "base_uri": "https://localhost:8080/"
    },
    "id": "QeFrY6-wXtT3",
    "outputId": "c7d4869c-36d4-4741-babd-149b0c2435a4"
   },
   "outputs": [
    {
     "name": "stdout",
     "output_type": "stream",
     "text": [
      "AdvancedCNN(\n",
      "  (model): Sequential(\n",
      "    (0): Conv2d(3, 32, kernel_size=(3, 3), stride=(1, 1), padding=(1, 1))\n",
      "    (1): BatchNorm2d(32, eps=1e-05, momentum=0.1, affine=True, track_running_stats=True)\n",
      "    (2): LeakyReLU(negative_slope=0.1)\n",
      "    (3): MaxPool2d(kernel_size=2, stride=2, padding=0, dilation=1, ceil_mode=False)\n",
      "    (4): Dropout(p=0.25, inplace=False)\n",
      "    (5): Conv2d(32, 64, kernel_size=(3, 3), stride=(1, 1), padding=(1, 1))\n",
      "    (6): BatchNorm2d(64, eps=1e-05, momentum=0.1, affine=True, track_running_stats=True)\n",
      "    (7): LeakyReLU(negative_slope=0.1)\n",
      "    (8): MaxPool2d(kernel_size=2, stride=2, padding=0, dilation=1, ceil_mode=False)\n",
      "    (9): Dropout(p=0.25, inplace=False)\n",
      "    (10): Conv2d(64, 128, kernel_size=(3, 3), stride=(1, 1), padding=(1, 1))\n",
      "    (11): BatchNorm2d(128, eps=1e-05, momentum=0.1, affine=True, track_running_stats=True)\n",
      "    (12): LeakyReLU(negative_slope=0.1)\n",
      "    (13): MaxPool2d(kernel_size=2, stride=2, padding=0, dilation=1, ceil_mode=False)\n",
      "    (14): Dropout(p=0.25, inplace=False)\n",
      "    (15): Conv2d(128, 256, kernel_size=(3, 3), stride=(1, 1), padding=(1, 1))\n",
      "    (16): BatchNorm2d(256, eps=1e-05, momentum=0.1, affine=True, track_running_stats=True)\n",
      "    (17): LeakyReLU(negative_slope=0.1)\n",
      "    (18): MaxPool2d(kernel_size=2, stride=2, padding=0, dilation=1, ceil_mode=False)\n",
      "    (19): Dropout(p=0.25, inplace=False)\n",
      "    (20): Conv2d(256, 512, kernel_size=(3, 3), stride=(1, 1), padding=(1, 1))\n",
      "    (21): BatchNorm2d(512, eps=1e-05, momentum=0.1, affine=True, track_running_stats=True)\n",
      "    (22): LeakyReLU(negative_slope=0.1)\n",
      "    (23): MaxPool2d(kernel_size=2, stride=2, padding=0, dilation=1, ceil_mode=False)\n",
      "    (24): Dropout(p=0.25, inplace=False)\n",
      "    (25): Conv2d(512, 512, kernel_size=(3, 3), stride=(1, 1), padding=(1, 1))\n",
      "    (26): BatchNorm2d(512, eps=1e-05, momentum=0.1, affine=True, track_running_stats=True)\n",
      "    (27): LeakyReLU(negative_slope=0.1)\n",
      "    (28): MaxPool2d(kernel_size=2, stride=2, padding=0, dilation=1, ceil_mode=False)\n",
      "    (29): Dropout(p=0.25, inplace=False)\n",
      "    (30): Flatten(start_dim=1, end_dim=-1)\n",
      "    (31): Linear(in_features=4608, out_features=1024, bias=True)\n",
      "    (32): BatchNorm1d(1024, eps=1e-05, momentum=0.1, affine=True, track_running_stats=True)\n",
      "    (33): LeakyReLU(negative_slope=0.1)\n",
      "    (34): Dropout(p=0.5, inplace=False)\n",
      "    (35): Linear(in_features=1024, out_features=512, bias=True)\n",
      "    (36): BatchNorm1d(512, eps=1e-05, momentum=0.1, affine=True, track_running_stats=True)\n",
      "    (37): LeakyReLU(negative_slope=0.1)\n",
      "    (38): Dropout(p=0.5, inplace=False)\n",
      "    (39): Linear(in_features=512, out_features=256, bias=True)\n",
      "    (40): BatchNorm1d(256, eps=1e-05, momentum=0.1, affine=True, track_running_stats=True)\n",
      "    (41): LeakyReLU(negative_slope=0.1)\n",
      "    (42): Dropout(p=0.5, inplace=False)\n",
      "    (43): Linear(in_features=256, out_features=4, bias=True)\n",
      "    (44): LogSoftmax(dim=1)\n",
      "  )\n",
      ")\n"
     ]
    }
   ],
   "source": [
    "# 고급 CNN 모델 정의\n",
    "class AdvancedCNN(nn.Module):\n",
    "    def __init__(self):\n",
    "        super(AdvancedCNN, self).__init__()\n",
    "        self.model = nn.Sequential(\n",
    "            # 첫 번째 합성곱 블록\n",
    "            nn.Conv2d(3, 32, kernel_size=3, padding=1),  # 입력 채널: 3 (RGB), 출력 채널: 32\n",
    "            nn.BatchNorm2d(32),\n",
    "            nn.LeakyReLU(0.1),\n",
    "            nn.MaxPool2d(2, 2),  # 크기 축소 (224 -> 112)\n",
    "            nn.Dropout(0.25),\n",
    "\n",
    "            # 두 번째 합성곱 블록\n",
    "            nn.Conv2d(32, 64, kernel_size=3, padding=1),\n",
    "            nn.BatchNorm2d(64),\n",
    "            nn.LeakyReLU(0.1),\n",
    "            nn.MaxPool2d(2, 2),  # 크기 축소 (112 -> 56)\n",
    "            nn.Dropout(0.25),\n",
    "\n",
    "            # 세 번째 합성곱 블록\n",
    "            nn.Conv2d(64, 128, kernel_size=3, padding=1),\n",
    "            nn.BatchNorm2d(128),\n",
    "            nn.LeakyReLU(0.1),\n",
    "            nn.MaxPool2d(2, 2),  # 크기 축소 (56 -> 28)\n",
    "            nn.Dropout(0.25),\n",
    "\n",
    "            # 네 번째 합성곱 블록\n",
    "            nn.Conv2d(128, 256, kernel_size=3, padding=1),\n",
    "            nn.BatchNorm2d(256),\n",
    "            nn.LeakyReLU(0.1),\n",
    "            nn.MaxPool2d(2, 2),  # 크기 축소 (28 -> 14)\n",
    "            nn.Dropout(0.25),\n",
    "\n",
    "            # 다섯 번째 합성곱 블록\n",
    "            nn.Conv2d(256, 512, kernel_size=3, padding=1),\n",
    "            nn.BatchNorm2d(512),\n",
    "            nn.LeakyReLU(0.1),\n",
    "            nn.MaxPool2d(2, 2),  # 크기 축소 (14 -> 7)\n",
    "            nn.Dropout(0.25),\n",
    "\n",
    "            # 여섯 번째 합성곱 블록\n",
    "            nn.Conv2d(512, 512, kernel_size=3, padding=1),\n",
    "            nn.BatchNorm2d(512),\n",
    "            nn.LeakyReLU(0.1),\n",
    "            nn.MaxPool2d(2, 2),  # 크기 축소 (7 -> 3)\n",
    "            nn.Dropout(0.25),\n",
    "\n",
    "            nn.Flatten(),  # 2D Feature Map을 1D 벡터로 변환\n",
    "            nn.Linear(512 * 3 * 3, 1024),  # 완전 연결층 (FC)\n",
    "            nn.BatchNorm1d(1024),\n",
    "            nn.LeakyReLU(0.1),\n",
    "            nn.Dropout(0.5),\n",
    "\n",
    "            nn.Linear(1024, 512),\n",
    "            nn.BatchNorm1d(512),\n",
    "            nn.LeakyReLU(0.1),\n",
    "            nn.Dropout(0.5),\n",
    "\n",
    "            nn.Linear(512, 256),\n",
    "            nn.BatchNorm1d(256),\n",
    "            nn.LeakyReLU(0.1),\n",
    "            nn.Dropout(0.5),\n",
    "\n",
    "            nn.Linear(256, 4),  # 최종 출력층 (클래스 개수: 4)\n",
    "            nn.LogSoftmax(dim=1)  # 다중 클래스 분류를 위한 LogSoftmax 적용\n",
    "        )\n",
    "\n",
    "    def forward(self, x):\n",
    "        return self.model(x)\n",
    "\n",
    "# 모델 인스턴스 생성 및 구조 확인\n",
    "model_advanced = AdvancedCNN()\n",
    "print(model_advanced)\n"
   ]
  },
  {
   "cell_type": "markdown",
   "metadata": {},
   "source": [
    "# 모델 학습 및 검증 함수\n",
    "\n",
    "- **훈련 및 검증을 수행하면서 최적의 모델 가중치를 저장하고 조기 종료 적용**\n",
    "- **기능 요약:**\n",
    "  - `train_loader`를 사용하여 배치 단위로 모델을 학습하고 손실을 최소화함.\n",
    "  - `val_loader`를 사용하여 검증 데이터에 대한 성능을 평가함.\n",
    "  - 검증 손실(`valid_loss`)이 가장 낮은 모델 가중치를 저장함.\n",
    "  - `early_stop` 기준을 충족하면 조기 종료하여 과적합을 방지함.\n",
    "  - `progress_interval`마다 학습 진행 상황을 출력함.\n",
    "\n",
    "- **출력 값:**\n",
    "  - 최적의 모델 (`model`)\n",
    "  - 최소 검증 손실 (`lowest_loss`)\n",
    "  - 학습 손실 기록 (`train_losses`)\n",
    "  - 검증 손실 기록 (`valid_losses`)\n",
    "\n",
    "# 하이퍼파라미터 설정\n",
    "- `nb_epochs = 30` → 학습 에포크 수.\n",
    "- `progress_interval = 3` → 진행 상황 출력 간격.\n",
    "- `early_stop = 30` → 조기 종료 기준 (손실 개선이 없으면 중단).\n",
    "\n",
    "# 디바이스 설정\n",
    "- `torch.device(\"cuda\" if torch.cuda.is_available() else \"cpu\")` → GPU 사용 가능 여부 확인 후 적절한 장치 설정.\n"
   ]
  },
  {
   "cell_type": "code",
   "execution_count": 15,
   "metadata": {
    "id": "IYKlAOicXvHo"
   },
   "outputs": [],
   "source": [
    "def train_model(model, train_loader, val_loader, loss_func, optimizer, device,\n",
    "                early_stop=30, n_epochs=100, progress_interval=3):\n",
    "    \"\"\"\n",
    "    모델을 학습시키고 검증하는 함수.\n",
    "\n",
    "    Args:\n",
    "        model (nn.Module): 학습할 모델\n",
    "        train_loader (DataLoader): 학습 데이터 로더\n",
    "        val_loader (DataLoader): 검증 데이터 로더\n",
    "        loss_func (nn.Module): 손실 함수 (예: NLLLoss, CrossEntropyLoss 등)\n",
    "        optimizer (torch.optim.Optimizer): 최적화 알고리즘 (예: Adam, SGD 등)\n",
    "        device (torch.device): 'cpu' 또는 'cuda'\n",
    "        early_stop (int, optional): 조기 종료 기준 (기본값: 30)\n",
    "        n_epochs (int, optional): 학습할 총 에포크 수 (기본값: 100)\n",
    "        progress_interval (int, optional): 학습 과정 출력 간격 (기본값: 3)\n",
    "\n",
    "    Returns:\n",
    "        model (nn.Module): 학습된 모델 (최적의 검증 성능 모델 저장)\n",
    "        lowest_loss (float): 최소 검증 손실 값\n",
    "        train_losses (list): 에포크별 학습 손실 기록\n",
    "        valid_losses (list): 에포크별 검증 손실 기록\n",
    "    \"\"\"\n",
    "\n",
    "    train_losses, valid_losses = [], []\n",
    "    best_model_wts = copy.deepcopy(model.state_dict())  # 최적 모델 가중치 저장\n",
    "    lowest_loss = float('inf')  # 최소 손실 초기값 설정\n",
    "    lowest_epoch = 0  # 최소 손실이 발생한 에포크\n",
    "\n",
    "    model.to(device)  # 모델을 지정된 디바이스로 이동\n",
    "\n",
    "    for epoch in range(n_epochs):\n",
    "        train_loss, valid_loss = 0.0, 0.0\n",
    "\n",
    "        # Training 단계\n",
    "        model.train()  # 모델을 학습 모드로 설정\n",
    "        for inputs, targets in train_loader:\n",
    "            inputs, targets = inputs.to(device), targets.to(device)  # 데이터 디바이스 이동\n",
    "\n",
    "            optimizer.zero_grad()  # 이전 그래디언트 초기화\n",
    "            outputs = model(inputs)  # 모델의 예측값 계산\n",
    "            loss = loss_func(outputs, targets)  # 손실 계산\n",
    "\n",
    "            loss.backward()  # 그래디언트 역전파\n",
    "            optimizer.step()  # 모델 가중치 업데이트\n",
    "\n",
    "            train_loss += loss.item()  # 배치별 손실 값 누적\n",
    "\n",
    "        train_loss /= len(train_loader)  # 배치 평균 손실 계산\n",
    "        train_losses.append(train_loss)\n",
    "\n",
    "        # Validation 단계\n",
    "        model.eval()  # 모델을 평가 모드로 설정\n",
    "        with torch.no_grad():  # 검증 과정에서는 그래디언트 계산하지 않음 (메모리 절약)\n",
    "            for inputs, targets in val_loader:\n",
    "                inputs, targets = inputs.to(device), targets.to(device)\n",
    "                outputs = model(inputs)\n",
    "                loss = loss_func(outputs, targets)\n",
    "                valid_loss += loss.item()\n",
    "\n",
    "        valid_loss /= len(val_loader)  # 배치 평균 검증 손실 계산\n",
    "        valid_losses.append(valid_loss)\n",
    "\n",
    "        # 최적 모델 업데이트\n",
    "        if valid_loss < lowest_loss:\n",
    "            lowest_loss = valid_loss\n",
    "            lowest_epoch = epoch\n",
    "            best_model_wts = copy.deepcopy(model.state_dict())  # 최적 가중치 저장\n",
    "        elif early_stop > 0 and epoch - lowest_epoch >= early_stop:\n",
    "            print(f\"Early Stopping at Epoch {epoch} (Lowest Loss: {lowest_loss:.4f} at Epoch {lowest_epoch})\")\n",
    "            break  # 조기 종료\n",
    "\n",
    "        # 진행 상황 출력\n",
    "        if epoch % progress_interval == 0:\n",
    "            print(f\"Epoch {epoch}: Train Loss = {train_loss:.4f}, Valid Loss = {valid_loss:.4f}, \"\n",
    "                  f\"Lowest Loss = {lowest_loss:.4f} (at Epoch {lowest_epoch})\")\n",
    "\n",
    "    # 최적의 모델 가중치를 복원\n",
    "    model.load_state_dict(best_model_wts)\n",
    "    return model, lowest_loss, train_losses, valid_losses\n",
    "\n",
    "# Hyperparameters 설정\n",
    "nb_epochs = 30  # 총 학습 에포크 수\n",
    "progress_interval = 3  # 진행 상황 출력 간격\n",
    "early_stop = 30  # 조기 종료 기준\n",
    "\n",
    "# 디바이스 설정 (CUDA 사용 가능하면 GPU, 아니면 CPU)\n",
    "device = torch.device(\"cuda\" if torch.cuda.is_available() else \"cpu\")\n"
   ]
  },
  {
   "cell_type": "markdown",
   "metadata": {},
   "source": [
    "# 모델 학습 및 저장\n",
    "\n",
    "- **모델 구성**\n",
    "  - `BasicCNN()` → 기본 CNN 모델 인스턴스 생성.\n",
    "  - `.to(device)` → GPU 사용 가능하면 GPU로 이동, 아니면 CPU에서 실행.\n",
    "\n",
    "- **손실 함수 및 옵티마이저**\n",
    "  - `nn.NLLLoss()` → 음의 로그 우도 손실(Negative Log Likelihood Loss) 사용.\n",
    "  - `optim.Adam(model.parameters(), lr=0.001)` → Adam 옵티마이저 사용 (학습률 0.001).\n",
    "\n",
    "- **모델 학습 실행**\n",
    "  - `train_model()` 함수를 사용하여 모델 학습 진행.\n",
    "  - 조기 종료(`early_stop`), 학습 에포크 수(`n_epochs`), 진행 상황 출력 간격(`progress_interval`) 적용.\n",
    "\n",
    "- **학습된 모델 가중치 저장**\n",
    "  - `torch.save(model.state_dict(), \"BasicCNN_best.pth\")` → 최적 모델 가중치 저장.\n",
    "  - `\"BasicCNN_best.pth\"` → 저장된 모델 파일명.\n"
   ]
  },
  {
   "cell_type": "code",
   "execution_count": 16,
   "metadata": {
    "colab": {
     "base_uri": "https://localhost:8080/"
    },
    "id": "c6QSsR9-XxwP",
    "outputId": "3938cbed-194d-47a2-c290-d6e24f038439"
   },
   "outputs": [
    {
     "name": "stdout",
     "output_type": "stream",
     "text": [
      "Epoch 0: Train Loss = 0.7194, Valid Loss = 2.0942, Lowest Loss = 2.0942 (at Epoch 0)\n",
      "Epoch 3: Train Loss = 0.1956, Valid Loss = 1.0697, Lowest Loss = 1.0697 (at Epoch 3)\n",
      "Epoch 6: Train Loss = 0.0722, Valid Loss = 1.2885, Lowest Loss = 1.0211 (at Epoch 4)\n",
      "Epoch 9: Train Loss = 0.0427, Valid Loss = 2.2834, Lowest Loss = 0.7644 (at Epoch 8)\n",
      "Epoch 12: Train Loss = 0.0257, Valid Loss = 1.6912, Lowest Loss = 0.5273 (at Epoch 10)\n",
      "Epoch 15: Train Loss = 0.0147, Valid Loss = 0.8815, Lowest Loss = 0.5273 (at Epoch 10)\n",
      "Epoch 18: Train Loss = 0.0096, Valid Loss = 0.9336, Lowest Loss = 0.4940 (at Epoch 16)\n",
      "Epoch 21: Train Loss = 0.0076, Valid Loss = 0.5643, Lowest Loss = 0.4247 (at Epoch 20)\n",
      "Epoch 24: Train Loss = 0.0086, Valid Loss = 0.5574, Lowest Loss = 0.4247 (at Epoch 20)\n",
      "Epoch 27: Train Loss = 0.0068, Valid Loss = 0.4938, Lowest Loss = 0.4247 (at Epoch 20)\n",
      " BasicCNN 가중치 저장 완료: BasicCNN_best.pth\n"
     ]
    }
   ],
   "source": [
    "# 모델, 손실 함수, 옵티마이저 설정\n",
    "model = BasicCNN().to(device)  # BasicCNN 모델을 생성하고 GPU/CPU로 이동\n",
    "loss_func = nn.NLLLoss()  # 손실 함수: 음의 로그 우도 손실(Negative Log Likelihood Loss)\n",
    "optimizer = optim.Adam(model.parameters(), lr=0.001)  # Adam 옵티마이저 사용 (학습률 0.001)\n",
    "\n",
    "# 모델 학습 실행\n",
    "model, lowest_loss, train_losses, valid_losses = train_model(\n",
    "    model, train_loader, val_loader, loss_func, optimizer, device,\n",
    "    early_stop=early_stop,  # 조기 종료 기준\n",
    "    n_epochs=nb_epochs,  # 학습 에포크 수\n",
    "    progress_interval=progress_interval  # 진행 상황 출력 간격\n",
    ")\n",
    "\n",
    "#  학습된 모델 가중치 저장\n",
    "torch.save(model.state_dict(), \"BasicCNN_best.pth\")\n",
    "print(\" BasicCNN 가중치 저장 완료: BasicCNN_best.pth\")\n"
   ]
  },
  {
   "cell_type": "markdown",
   "metadata": {},
   "source": [
    "# 중간 수준 CNN 모델 학습 및 저장\n",
    "\n",
    "- **모델 구성**\n",
    "  - `IntermediateCNN()` → 중간 수준 CNN 모델 생성.\n",
    "  - `.to(device)` → GPU 사용 가능하면 GPU로 이동, 아니면 CPU에서 실행.\n",
    "\n",
    "- **손실 함수 및 옵티마이저**\n",
    "  - `nn.NLLLoss()` → 음의 로그 우도 손실(Negative Log Likelihood Loss) 사용.\n",
    "  - `optim.Adam(model.parameters(), lr=0.001)` → Adam 옵티마이저 사용 (학습률 0.001).\n",
    "\n",
    "- **모델 학습 실행**\n",
    "  - `train_model()` 함수로 모델 학습 수행.\n",
    "  - 조기 종료(`early_stop`), 학습 에포크 수(`n_epochs`), 진행 상황 출력 간격(`progress_interval`) 설정.\n",
    "\n",
    "- **학습된 모델 가중치 저장**\n",
    "  - `torch.save(model.state_dict(), \"IntermediateCNN_best.pth\")` → 최적 모델 가중치 저장.\n",
    "  - `\"IntermediateCNN_best.pth\"` → 저장된 모델 파일명.\n"
   ]
  },
  {
   "cell_type": "code",
   "execution_count": 17,
   "metadata": {
    "colab": {
     "base_uri": "https://localhost:8080/"
    },
    "id": "vyeyJAVRXzWP",
    "outputId": "3757e1ec-5036-44c9-a866-77e2e179161d"
   },
   "outputs": [
    {
     "name": "stdout",
     "output_type": "stream",
     "text": [
      "Epoch 0: Train Loss = 0.6491, Valid Loss = 1.3027, Lowest Loss = 1.3027 (at Epoch 0)\n",
      "Epoch 3: Train Loss = 0.2083, Valid Loss = 0.4867, Lowest Loss = 0.4867 (at Epoch 3)\n",
      "Epoch 6: Train Loss = 0.1172, Valid Loss = 0.3295, Lowest Loss = 0.3295 (at Epoch 6)\n",
      "Epoch 9: Train Loss = 0.0566, Valid Loss = 0.2032, Lowest Loss = 0.2032 (at Epoch 9)\n",
      "Epoch 12: Train Loss = 0.0585, Valid Loss = 0.2576, Lowest Loss = 0.2032 (at Epoch 9)\n",
      "Epoch 15: Train Loss = 0.0406, Valid Loss = 0.2276, Lowest Loss = 0.2032 (at Epoch 9)\n",
      "Epoch 18: Train Loss = 0.0320, Valid Loss = 0.3449, Lowest Loss = 0.2032 (at Epoch 9)\n",
      "Epoch 21: Train Loss = 0.0204, Valid Loss = 0.1816, Lowest Loss = 0.1816 (at Epoch 21)\n",
      "Epoch 24: Train Loss = 0.0225, Valid Loss = 0.4780, Lowest Loss = 0.1816 (at Epoch 21)\n",
      "Epoch 27: Train Loss = 0.0167, Valid Loss = 0.3717, Lowest Loss = 0.1816 (at Epoch 21)\n",
      " IntermediateCNN 가중치 저장 완료: IntermediateCNN_best.pth\n"
     ]
    }
   ],
   "source": [
    "# 모델, 손실 함수, 옵티마이저 설정\n",
    "model = IntermediateCNN().to(device)  # IntermediateCNN 모델을 생성하고 GPU/CPU로 이동\n",
    "loss_func = nn.NLLLoss()  # 손실 함수: 음의 로그 우도 손실(Negative Log Likelihood Loss)\n",
    "optimizer = optim.Adam(model.parameters(), lr=0.001)  # Adam 옵티마이저 사용 (학습률 0.001)\n",
    "\n",
    "# 모델 학습 실행\n",
    "model, lowest_loss, train_losses, valid_losses = train_model(\n",
    "    model, train_loader, val_loader, loss_func, optimizer, device,\n",
    "    early_stop=early_stop,  # 조기 종료 기준\n",
    "    n_epochs=nb_epochs,  # 학습 에포크 수\n",
    "    progress_interval=progress_interval  # 진행 상황 출력 간격\n",
    ")\n",
    "\n",
    "#  학습된 모델 가중치 저장\n",
    "torch.save(model.state_dict(), \"IntermediateCNN_best.pth\")\n",
    "print(\" IntermediateCNN 가중치 저장 완료: IntermediateCNN_best.pth\")\n"
   ]
  },
  {
   "cell_type": "markdown",
   "metadata": {},
   "source": [
    "# 고급 CNN 모델 학습 및 저장\n",
    "\n",
    "- **모델 구성**\n",
    "  - `AdvancedCNN()` → 고급 CNN 모델 생성.\n",
    "  - `.to(device)` → GPU 사용 가능하면 GPU로 이동, 아니면 CPU에서 실행.\n",
    "\n",
    "- **손실 함수 및 옵티마이저**\n",
    "  - `nn.NLLLoss()` → 음의 로그 우도 손실(Negative Log Likelihood Loss) 사용.\n",
    "  - `optim.Adam(model.parameters(), lr=0.001)` → Adam 옵티마이저 사용 (학습률 0.001).\n",
    "\n",
    "- **모델 학습 실행**\n",
    "  - `train_model()` 함수로 모델 학습 진행.\n",
    "  - 조기 종료(`early_stop`), 학습 에포크 수(`n_epochs`), 진행 상황 출력 간격(`progress_interval`) 설정.\n",
    "\n",
    "- **학습된 모델 가중치 저장**\n",
    "  - `torch.save(model.state_dict(), \"AdvancedCNN_best.pth\")` → 최적 모델 가중치 저장.\n",
    "  - `\"AdvancedCNN_best.pth\"` → 저장된 모델 파일명.\n"
   ]
  },
  {
   "cell_type": "code",
   "execution_count": 18,
   "metadata": {
    "colab": {
     "base_uri": "https://localhost:8080/"
    },
    "id": "3CAk36oRX3_J",
    "outputId": "3b130498-709d-4086-daf6-f4d1ef9841b6"
   },
   "outputs": [
    {
     "name": "stdout",
     "output_type": "stream",
     "text": [
      "Epoch 0: Train Loss = 0.8511, Valid Loss = 4.0512, Lowest Loss = 4.0512 (at Epoch 0)\n",
      "Epoch 3: Train Loss = 0.2805, Valid Loss = 0.5070, Lowest Loss = 0.5070 (at Epoch 3)\n",
      "Epoch 6: Train Loss = 0.1343, Valid Loss = 0.3791, Lowest Loss = 0.3791 (at Epoch 6)\n",
      "Epoch 9: Train Loss = 0.0995, Valid Loss = 0.2884, Lowest Loss = 0.1937 (at Epoch 8)\n",
      "Epoch 12: Train Loss = 0.0627, Valid Loss = 0.2803, Lowest Loss = 0.1871 (at Epoch 10)\n",
      "Epoch 15: Train Loss = 0.0545, Valid Loss = 0.4539, Lowest Loss = 0.1758 (at Epoch 14)\n",
      "Epoch 18: Train Loss = 0.0378, Valid Loss = 0.5012, Lowest Loss = 0.1758 (at Epoch 14)\n",
      "Epoch 21: Train Loss = 0.0259, Valid Loss = 0.2163, Lowest Loss = 0.1758 (at Epoch 14)\n",
      "Epoch 24: Train Loss = 0.0379, Valid Loss = 0.2438, Lowest Loss = 0.1758 (at Epoch 14)\n",
      "Epoch 27: Train Loss = 0.0202, Valid Loss = 0.1661, Lowest Loss = 0.1661 (at Epoch 27)\n",
      " AdvancedCNN 가중치 저장 완료: AdvancedCNN_best.pth\n"
     ]
    }
   ],
   "source": [
    "# 모델, 손실 함수, 옵티마이저 설정\n",
    "model = AdvancedCNN().to(device)  # AdvancedCNN 모델을 생성하고 GPU/CPU로 이동\n",
    "loss_func = nn.NLLLoss()  # 손실 함수: 음의 로그 우도 손실(Negative Log Likelihood Loss)\n",
    "optimizer = optim.Adam(model.parameters(), lr=0.001)  # Adam 옵티마이저 사용 (학습률 0.001)\n",
    "\n",
    "# 모델 학습 실행\n",
    "model, lowest_loss, train_losses, valid_losses = train_model(\n",
    "    model, train_loader, val_loader, loss_func, optimizer, device,\n",
    "    early_stop=early_stop,  # 조기 종료 기준 (연속 early_stop epoch 동안 개선이 없으면 중단)\n",
    "    n_epochs=nb_epochs,  # 학습 에포크 수\n",
    "    progress_interval=progress_interval  # 진행 상황 출력 간격\n",
    ")\n",
    "\n",
    "#  학습된 모델 가중치 저장\n",
    "torch.save(model.state_dict(), \"AdvancedCNN_best.pth\")\n",
    "print(\" AdvancedCNN 가중치 저장 완료: AdvancedCNN_best.pth\")\n"
   ]
  },
  {
   "cell_type": "markdown",
   "metadata": {},
   "source": [
    "# 모델 성능 평가 및 시각화\n",
    "\n",
    "- **`evaluate_model()` 함수:** \n",
    "  - 검증 데이터(`val_loader`)를 사용하여 모델의 성능을 평가.\n",
    "  - `accuracy`, `precision`, `recall`, `f1_score`를 계산하여 반환.\n",
    "\n",
    "- **모델 평가 과정:**  \n",
    "  - `BasicCNN`, `IntermediateCNN`, `AdvancedCNN` 모델의 학습된 가중치를 로드하여 평가.\n",
    "  - 가중치 파일(`{name}_best.pth`)이 존재하지 않으면 해당 모델의 평가를 건너뜸.\n",
    "\n",
    "- **결과 저장:**  \n",
    "  - 성능 지표(정확도, 정밀도, 재현율, F1-score)를 `pandas.DataFrame` 형태로 저장.\n",
    "  - `model_metrics.csv` 파일로 결과 저장.\n",
    "\n",
    "- **시각화:**  \n",
    "  - `bar plot`을 사용하여 모델별 성능을 비교.\n",
    "  - 정확도(`accuracy`), 정밀도(`precision`), 재현율(`recall`), F1-score를 막대 그래프로 표시.\n"
   ]
  },
  {
   "cell_type": "code",
   "execution_count": 19,
   "metadata": {
    "colab": {
     "base_uri": "https://localhost:8080/",
     "height": 907
    },
    "id": "cXrEyTwFmb9P",
    "outputId": "e8f41428-26aa-453d-9505-7004481c7e59"
   },
   "outputs": [
    {
     "name": "stdout",
     "output_type": "stream",
     "text": [
      " BasicCNN 모델 가중치 로드 완료!\n"
     ]
    },
    {
     "name": "stderr",
     "output_type": "stream",
     "text": [
      "<ipython-input-19-29e729c491e0>:45: FutureWarning: You are using `torch.load` with `weights_only=False` (the current default value), which uses the default pickle module implicitly. It is possible to construct malicious pickle data which will execute arbitrary code during unpickling (See https://github.com/pytorch/pytorch/blob/main/SECURITY.md#untrusted-models for more details). In a future release, the default value for `weights_only` will be flipped to `True`. This limits the functions that could be executed during unpickling. Arbitrary objects will no longer be allowed to be loaded via this mode unless they are explicitly allowlisted by the user via `torch.serialization.add_safe_globals`. We recommend you start setting `weights_only=True` for any use case where you don't have full control of the loaded file. Please open an issue on GitHub for any issues related to this experimental feature.\n",
      "  model.load_state_dict(torch.load(weight_path, map_location=device))\n"
     ]
    },
    {
     "name": "stdout",
     "output_type": "stream",
     "text": [
      " IntermediateCNN 모델 가중치 로드 완료!\n"
     ]
    },
    {
     "name": "stderr",
     "output_type": "stream",
     "text": [
      "<ipython-input-19-29e729c491e0>:45: FutureWarning: You are using `torch.load` with `weights_only=False` (the current default value), which uses the default pickle module implicitly. It is possible to construct malicious pickle data which will execute arbitrary code during unpickling (See https://github.com/pytorch/pytorch/blob/main/SECURITY.md#untrusted-models for more details). In a future release, the default value for `weights_only` will be flipped to `True`. This limits the functions that could be executed during unpickling. Arbitrary objects will no longer be allowed to be loaded via this mode unless they are explicitly allowlisted by the user via `torch.serialization.add_safe_globals`. We recommend you start setting `weights_only=True` for any use case where you don't have full control of the loaded file. Please open an issue on GitHub for any issues related to this experimental feature.\n",
      "  model.load_state_dict(torch.load(weight_path, map_location=device))\n"
     ]
    },
    {
     "name": "stdout",
     "output_type": "stream",
     "text": [
      " AdvancedCNN 모델 가중치 로드 완료!\n"
     ]
    },
    {
     "name": "stderr",
     "output_type": "stream",
     "text": [
      "<ipython-input-19-29e729c491e0>:45: FutureWarning: You are using `torch.load` with `weights_only=False` (the current default value), which uses the default pickle module implicitly. It is possible to construct malicious pickle data which will execute arbitrary code during unpickling (See https://github.com/pytorch/pytorch/blob/main/SECURITY.md#untrusted-models for more details). In a future release, the default value for `weights_only` will be flipped to `True`. This limits the functions that could be executed during unpickling. Arbitrary objects will no longer be allowed to be loaded via this mode unless they are explicitly allowlisted by the user via `torch.serialization.add_safe_globals`. We recommend you start setting `weights_only=True` for any use case where you don't have full control of the loaded file. Please open an issue on GitHub for any issues related to this experimental feature.\n",
      "  model.load_state_dict(torch.load(weight_path, map_location=device))\n"
     ]
    },
    {
     "name": "stdout",
     "output_type": "stream",
     "text": [
      "                 accuracy  precision    recall  f1_score\n",
      "BasicCNN         0.892308   0.898832  0.892308  0.893177\n",
      "IntermediateCNN  0.951049   0.951602  0.951049  0.951268\n",
      "AdvancedCNN      0.960140   0.960845  0.960140  0.960312\n",
      " 모델 평가 결과가 'model_metrics.csv' 파일로 저장되었습니다.\n"
     ]
    },
    {
     "data": {
      "image/png": "[encoded data removed]",
      "text/plain": [
       "<Figure size 1000x600 with 1 Axes>"
      ]
     },
     "metadata": {},
     "output_type": "display_data"
    }
   ],
   "source": [
    "import os\n",
    "import pandas as pd\n",
    "import matplotlib.pyplot as plt\n",
    "from sklearn.metrics import accuracy_score, precision_score, recall_score, f1_score\n",
    "\n",
    "# 모델 평가 함수\n",
    "def evaluate_model(model, data_loader, device):\n",
    "    model.eval()\n",
    "    y_true, y_pred = [], []\n",
    "\n",
    "    with torch.no_grad():\n",
    "        for images, labels in data_loader:\n",
    "            images, labels = images.to(device), labels.to(device)\n",
    "            outputs = model(images)\n",
    "            _, preds = torch.max(outputs, 1)\n",
    "            y_true.extend(labels.cpu().numpy())\n",
    "            y_pred.extend(preds.cpu().numpy())\n",
    "\n",
    "    return {\n",
    "        \"accuracy\": accuracy_score(y_true, y_pred),\n",
    "        \"precision\": precision_score(y_true, y_pred, average=\"weighted\"),\n",
    "        \"recall\": recall_score(y_true, y_pred, average=\"weighted\"),\n",
    "        \"f1_score\": f1_score(y_true, y_pred, average=\"weighted\"),\n",
    "    }\n",
    "\n",
    "# 모델 목록\n",
    "models = {\n",
    "    \"BasicCNN\": BasicCNN(),\n",
    "    \"IntermediateCNN\": IntermediateCNN(),\n",
    "    \"AdvancedCNN\": AdvancedCNN()\n",
    "}\n",
    "\n",
    "# 디바이스 설정\n",
    "device = torch.device(\"cuda\" if torch.cuda.is_available() else \"cpu\")\n",
    "\n",
    "# 모델별 성능 저장할 딕셔너리\n",
    "metrics = {}\n",
    "\n",
    "# 학습된 모델 가중치 불러와 평가\n",
    "for name, model in models.items():\n",
    "    model.to(device)\n",
    "    weight_path = f\"{name}_best.pth\"\n",
    "\n",
    "    if os.path.exists(weight_path):  # 가중치 파일이 존재하면 로드\n",
    "        model.load_state_dict(torch.load(weight_path, map_location=device))\n",
    "        print(f\" {name} 모델 가중치 로드 완료!\")\n",
    "        metrics[name] = evaluate_model(model, val_loader, device)\n",
    "    else:\n",
    "        print(f\" {name}_best.pth 파일이 없습니다. 평가를 건너뜁니다.\")\n",
    "\n",
    "# DataFrame으로 변환\n",
    "df_metrics = pd.DataFrame.from_dict(metrics, orient=\"index\")\n",
    "\n",
    "# 평가 결과 출력\n",
    "print(df_metrics)\n",
    "\n",
    "# CSV 파일로 저장\n",
    "df_metrics.to_csv(\"model_metrics.csv\", index=True)\n",
    "print(\" 모델 평가 결과가 'model_metrics.csv' 파일로 저장되었습니다.\")\n",
    "\n",
    "# 성능 시각화\n",
    "if not df_metrics.empty:\n",
    "    df_metrics.plot(kind=\"bar\", figsize=(10, 6))\n",
    "    plt.title(\"Model Performance (Accuracy, Precision, Recall, F1-score)\")\n",
    "    plt.ylabel(\"Score\")\n",
    "    plt.xticks(rotation=45)\n",
    "    plt.legend(title=\"Metrics\")\n",
    "    plt.show()\n",
    "else:\n",
    "    print(\" 모델 평가 결과가 없습니다.\")\n"
   ]
  },
  {
   "cell_type": "markdown",
   "metadata": {
    "id": "86UNJxa5nVn2"
   },
   "source": [
    "# 모델 성능 평가 결과 해석\n",
    "\n",
    "## **1. 모델별 성능 비교**\n",
    "| 모델              | 정확도 (Accuracy) | 정밀도 (Precision) | 재현율 (Recall) | F1-Score |\n",
    "|------------------|----------------|-----------------|---------------|----------|\n",
    "| **BasicCNN**         | 89.23%  | 89.88%  | 89.23%  | 89.32%  |\n",
    "| **IntermediateCNN**  | 95.10%  | 95.16%  | 95.10%  | 95.13%  |\n",
    "| **AdvancedCNN**      | 96.01%  | 96.08%  | 96.01%  | 96.03%  |\n",
    "\n",
    "## **2. 성능 분석**\n",
    "- **BasicCNN**  \n",
    "  - 가장 기본적인 CNN 모델로, 정확도(89.23%)와 F1-score(89.32%)가 가장 낮음.\n",
    "  - 모델이 비교적 단순하여 데이터의 복잡한 패턴을 충분히 학습하지 못한 것으로 보임.\n",
    "\n",
    "- **IntermediateCNN**  \n",
    "  - 모델의 깊이가 증가하면서 성능이 향상됨.\n",
    "  - 정확도(95.10%)와 F1-score(95.13%)가 BasicCNN보다 크게 증가.\n",
    "  - 더 많은 합성곱 레이어와 뉴런이 추가되어 데이터의 특징을 더 효과적으로 학습함.\n",
    "\n",
    "- **AdvancedCNN**  \n",
    "  - 가장 깊은 모델이며, 성능이 가장 우수함.\n",
    "  - 정확도(96.01%), 정밀도(96.08%), 재현율(96.01%) 모두 최고.\n",
    "  - 복잡한 구조 덕분에 데이터의 다양한 패턴을 더 정밀하게 학습할 수 있음.\n",
    "\n",
    "## **3. 결론**\n",
    "- 모델의 깊이가 증가할수록 성능이 향상됨.  \n",
    "- **AdvancedCNN**이 가장 높은 성능을 기록했으므로, 최적의 모델로 선택하는 것이 바람직함.  \n",
    "- **IntermediateCNN**도 성능이 우수하므로, 계산 비용이 부담된다면 이 모델을 고려할 수도 있음.  \n",
    "- 만약 추가적인 성능 향상이 필요하다면, 데이터 증강(Augmentation)이나 학습률 조정, 하이퍼파라미터 튜닝 등을 시도해볼 수 있음.\n"
   ]
  },
  {
   "cell_type": "code",
   "execution_count": null,
   "metadata": {},
   "outputs": [],
   "source": []
  }
 ],
 "metadata": {
  "accelerator": "GPU",
  "colab": {
   "gpuType": "T4",
   "provenance": []
  },
  "kernelspec": {
   "display_name": "Python 3 (ipykernel)",
   "language": "python",
   "name": "python3"
  },
  "language_info": {
   "codemirror_mode": {
    "name": "ipython",
    "version": 3
   },
   "file_extension": ".py",
   "mimetype": "text/x-python",
   "name": "python",
   "nbconvert_exporter": "python",
   "pygments_lexer": "ipython3",
   "version": "3.11.7"
  }
 },
 "nbformat": 4,
 "nbformat_minor": 4
}
